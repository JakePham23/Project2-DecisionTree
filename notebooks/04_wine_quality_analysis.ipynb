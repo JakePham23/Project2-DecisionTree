{
 "cells": [
  {
   "cell_type": "code",
   "execution_count": 13,
   "id": "3fb959dd",
   "metadata": {},
   "outputs": [],
   "source": [
    "# Import libraries\n",
    "import pandas as pd\n",
    "import numpy as np\n",
    "from sklearn.model_selection import train_test_split\n",
    "from sklearn.tree import DecisionTreeClassifier\n",
    "from sklearn import tree\n",
    "import graphviz\n",
    "from sklearn.metrics import classification_report, confusion_matrix, ConfusionMatrixDisplay, accuracy_score\n",
    "import matplotlib.pyplot as plt\n",
    "import seaborn as sns\n",
    "import os\n",
    "os.environ[\"PATH\"] += os.pathsep + r'C:\\Program Files\\Graphviz\\bin'  \n",
    "from graphviz import Source"
   ]
  },
  {
   "cell_type": "code",
   "execution_count": 14,
   "id": "b5d9e56b",
   "metadata": {},
   "outputs": [],
   "source": [
    "# Load and prepare data\n",
    "url = \"https://archive.ics.uci.edu/ml/machine-learning-databases/wine-quality/winequality-red.csv\"\n",
    "data = pd.read_csv(url, sep=\";\")\n",
    "data[\"quality\"] = data[\"quality\"].apply(lambda x: \"Low\" if x <= 5 else \"Medium\" if x == 6 else \"High\")\n",
    "X = data.drop(\"quality\", axis=1)\n",
    "y = data[\"quality\"]"
   ]
  },
  {
   "cell_type": "code",
   "execution_count": 18,
   "id": "88eba9c1",
   "metadata": {},
   "outputs": [],
   "source": [
    "# 2.1 Prepare datasets\n",
    "proportions = [(0.4, 0.6), (0.6, 0.4), (0.8, 0.2), (0.9, 0.1)]\n",
    "subsets = {}\n",
    "for train_size, test_size in proportions:\n",
    "    X_train, X_test, y_train, y_test = train_test_split(X, y, train_size=train_size, test_size=test_size, stratify=y, shuffle=True, random_state=42)\n",
    "    subsets[f\"train_{int(train_size*100)}\"] = (X_train, y_train)\n",
    "    subsets[f\"test_{int(test_size*100)}\"] = (X_test, y_test)\n",
    "# Visualize class distribution (save as .png)\n"
   ]
  },
  {
   "cell_type": "code",
   "execution_count": 19,
   "id": "d5800ebc",
   "metadata": {},
   "outputs": [
    {
     "name": "stdout",
     "output_type": "stream",
     "text": [
      "Successfully created ../outputs/wine_quality_analysis/trees/wine_quality_tree_train_40.pdf\n",
      "Successfully created ../outputs/wine_quality_analysis/trees/wine_quality_tree_train_60.pdf\n",
      "Successfully created ../outputs/wine_quality_analysis/trees/wine_quality_tree_train_80.pdf\n",
      "Successfully created ../outputs/wine_quality_analysis/trees/wine_quality_tree_train_90.pdf\n"
     ]
    }
   ],
   "source": [
    "# 3. Build decision trees (Section 2.2)\n",
    "os.makedirs(\"../outputs/wine_quality_analysis/trees\", exist_ok=True)\n",
    "for train_size, _ in proportions:\n",
    "    train_key = f\"train_{int(train_size*100)}\"\n",
    "    X_train, y_train = subsets[train_key]\n",
    "    clf = DecisionTreeClassifier(criterion=\"entropy\", random_state=42)\n",
    "    clf.fit(X_train, y_train)\n",
    "    dot_data = tree.export_graphviz(clf, out_file=None, feature_names=X.columns, class_names=[\"Low\", \"Medium\", \"High\"], filled=True, rounded=True)\n",
    "    graph = Source(dot_data)\n",
    "    graph.render(f\"../outputs/wine_quality_analysis/trees/wine_quality_tree_train_{int(train_size*100)}\", format=\"pdf\", cleanup=True)\n",
    "    print(f\"Successfully created ../outputs/wine_quality_analysis/trees/wine_quality_tree_train_{int(train_size*100)}.pdf\")"
   ]
  },
  {
   "cell_type": "code",
   "execution_count": 20,
   "id": "cd8f6116",
   "metadata": {},
   "outputs": [],
   "source": [
    "# 4. Evaluate decision trees (Section 2.3)\n",
    "os.makedirs(\"../outputs/wine_quality_analysis/matrices\", exist_ok=True)\n",
    "os.makedirs(\"../outputs/wine_quality_analysis/reports\", exist_ok=True)\n",
    "for train_size, test_size in proportions:\n",
    "    train_key = f\"train_{int(train_size*100)}\"\n",
    "    test_key = f\"test_{int(test_size*100)}\"\n",
    "    X_train, y_train = subsets[train_key]\n",
    "    X_test, y_test = subsets[test_key]\n",
    "    clf = DecisionTreeClassifier(criterion=\"entropy\", random_state=42)\n",
    "    clf.fit(X_train, y_train)\n",
    "    y_pred = clf.predict(X_test)\n",
    "    with open(f\"../outputs/wine_quality_analysis/reports/classification_report_{int(train_size*100)}_{int(test_size*100)}.txt\", \"w\") as f:\n",
    "        f.write(classification_report(y_test, y_pred))\n",
    "    cm = confusion_matrix(y_test, y_pred)\n",
    "    disp = ConfusionMatrixDisplay(confusion_matrix=cm, display_labels=[\"Low\", \"Medium\", \"High\"])\n",
    "    disp.plot()\n",
    "    plt.savefig(f\"../outputs/wine_quality_analysis/matrices/confusion_matrix_{int(train_size*100)}_{int(test_size*100)}.png\")\n",
    "    plt.close()"
   ]
  },
  {
   "cell_type": "code",
   "execution_count": 24,
   "id": "16a40bd4",
   "metadata": {},
   "outputs": [
    {
     "name": "stdout",
     "output_type": "stream",
     "text": [
      "Successfully created ../outputs/wine_quality_analysis/trees/tree_depth_None.pdf\n",
      "Successfully created ../outputs/wine_quality_analysis/trees/tree_depth_2.pdf\n",
      "Successfully created ../outputs/wine_quality_analysis/trees/tree_depth_3.pdf\n",
      "Successfully created ../outputs/wine_quality_analysis/trees/tree_depth_4.pdf\n",
      "Successfully created ../outputs/wine_quality_analysis/trees/tree_depth_5.pdf\n",
      "Successfully created ../outputs/wine_quality_analysis/trees/tree_depth_6.pdf\n",
      "Successfully created ../outputs/wine_quality_analysis/trees/tree_depth_7.pdf\n"
     ]
    }
   ],
   "source": [
    "# 5. Depth and accuracy (Section 2.4)\n",
    "os.makedirs(\"../outputs/wine_quality_analysis/acc\", exist_ok=True)\n",
    "X_train, y_train = subsets[\"train_80\"]\n",
    "X_test, y_test = subsets[\"test_20\"]\n",
    "depths = [None, 2, 3, 4, 5, 6, 7]\n",
    "accuracies = []\n",
    "for depth in depths:\n",
    "    clf = DecisionTreeClassifier(criterion=\"entropy\", max_depth=depth, random_state=42)\n",
    "    clf.fit(X_train, y_train)\n",
    "    y_pred = clf.predict(X_test)\n",
    "    acc = accuracy_score(y_test, y_pred)\n",
    "    accuracies.append(acc)\n",
    "    dot_data = tree.export_graphviz(clf, out_file=None, feature_names=X.columns, class_names=[\"Low\", \"Medium\", \"High\"], filled=True, rounded=True)\n",
    "    graph = Source(dot_data)\n",
    "    graph.render(f\"../outputs/wine_quality_analysis/trees/tree_depth_{depth if depth else 'None'}\", format=\"pdf\", cleanup=True)\n",
    "    print(f\"Successfully created ../outputs/wine_quality_analysis/trees/tree_depth_{depth if depth else 'None'}.pdf\")\n",
    "\n",
    "# Plot accuracy vs depth\n",
    "plt.figure(figsize=(8, 5))\n",
    "plt.plot([str(d) if d else \"None\" for d in depths], accuracies, marker=\"o\")\n",
    "plt.xlabel(\"max_depth\")\n",
    "plt.ylabel(\"Accuracy\")\n",
    "plt.title(\"Accuracy vs max_depth for Wine Quality (80/20)\")\n",
    "plt.grid(True)\n",
    "os.makedirs(\"../outputs/wine_quality_analysis/charts\", exist_ok=True)  # Thêm lệnh này\n",
    "plt.savefig(\"../outputs/wine_quality_analysis/charts/accuracy_vs_depth.png\")\n",
    "plt.close()"
   ]
  }
 ],
 "metadata": {
  "kernelspec": {
   "display_name": "Python 3",
   "language": "python",
   "name": "python3"
  },
  "language_info": {
   "codemirror_mode": {
    "name": "ipython",
    "version": 3
   },
   "file_extension": ".py",
   "mimetype": "text/x-python",
   "name": "python",
   "nbconvert_exporter": "python",
   "pygments_lexer": "ipython3",
   "version": "3.13.3"
  }
 },
 "nbformat": 4,
 "nbformat_minor": 5
}
