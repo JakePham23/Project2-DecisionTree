{
 "cells": [
  {
   "cell_type": "markdown",
   "id": "582efd8b",
   "metadata": {},
   "source": [
    "# Phân tích bộ dữ liệu `Breast cancer`\n"
   ]
  },
  {
   "cell_type": "markdown",
   "id": "f24bbafb",
   "metadata": {},
   "source": [
    "## 1. Preparing datasets"
   ]
  },
  {
   "cell_type": "markdown",
   "id": "5f6a053f",
   "metadata": {},
   "source": [
    "## 2. Building the decision tree classifiers\n"
   ]
  },
  {
   "cell_type": "markdown",
   "id": "dfdd12b5",
   "metadata": {},
   "source": [
    "## 3. Evaluating the decision tree classifiers\n"
   ]
  },
  {
   "cell_type": "markdown",
   "id": "118931de",
   "metadata": {},
   "source": [
    "## 4. The depth and accuracy of a decision tree\n"
   ]
  }
 ],
 "metadata": {
  "language_info": {
   "name": "python"
  }
 },
 "nbformat": 4,
 "nbformat_minor": 5
}
