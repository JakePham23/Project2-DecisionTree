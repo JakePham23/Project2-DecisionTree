{
 "cells": [
  {
   "cell_type": "markdown",
   "id": "3aa3b877",
   "metadata": {},
   "source": [
    "# Phân tích bộ dữ liệu `Heart Disease`\n"
   ]
  },
  {
   "cell_type": "markdown",
   "id": "41a6a9b2",
   "metadata": {},
   "source": [
    "## 1. Preparing datasets"
   ]
  },
  {
   "cell_type": "code",
   "execution_count": null,
   "id": "ab1af0ff",
   "metadata": {
    "notebookRunGroups": {
     "groupValue": "1"
    }
   },
   "outputs": [
    {
     "name": "stdout",
     "output_type": "stream",
     "text": [
      "Áp dụng One-Hot Encoding...\n",
      "Số lượng features sau One-Hot Encoding: 30\n",
      "\n",
      "Xử lý các giá trị bị thiếu...\n",
      "\n",
      "Thông tin dữ liệu sau khi xử lý hoàn tất:\n",
      "<class 'pandas.core.frame.DataFrame'>\n",
      "RangeIndex: 920 entries, 0 to 919\n",
      "Data columns (total 30 columns):\n",
      " #   Column                    Non-Null Count  Dtype  \n",
      "---  ------                    --------------  -----  \n",
      " 0   id                        920 non-null    float64\n",
      " 1   age                       920 non-null    float64\n",
      " 2   trestbps                  920 non-null    float64\n",
      " 3   chol                      920 non-null    float64\n",
      " 4   thalch                    920 non-null    float64\n",
      " 5   oldpeak                   920 non-null    float64\n",
      " 6   ca                        920 non-null    float64\n",
      " 7   sex_Female                920 non-null    float64\n",
      " 8   sex_Male                  920 non-null    float64\n",
      " 9   dataset_Cleveland         920 non-null    float64\n",
      " 10  dataset_Hungary           920 non-null    float64\n",
      " 11  dataset_Switzerland       920 non-null    float64\n",
      " 12  dataset_VA Long Beach     920 non-null    float64\n",
      " 13  cp_asymptomatic           920 non-null    float64\n",
      " 14  cp_atypical angina        920 non-null    float64\n",
      " 15  cp_non-anginal            920 non-null    float64\n",
      " 16  cp_typical angina         920 non-null    float64\n",
      " 17  fbs_False                 920 non-null    float64\n",
      " 18  fbs_True                  920 non-null    float64\n",
      " 19  restecg_lv hypertrophy    920 non-null    float64\n",
      " 20  restecg_normal            920 non-null    float64\n",
      " 21  restecg_st-t abnormality  920 non-null    float64\n",
      " 22  exang_False               920 non-null    float64\n",
      " 23  exang_True                920 non-null    float64\n",
      " 24  slope_downsloping         920 non-null    float64\n",
      " 25  slope_flat                920 non-null    float64\n",
      " 26  slope_upsloping           920 non-null    float64\n",
      " 27  thal_fixed defect         920 non-null    float64\n",
      " 28  thal_normal               920 non-null    float64\n",
      " 29  thal_reversable defect    920 non-null    float64\n",
      "dtypes: float64(30)\n",
      "memory usage: 215.8 KB\n",
      "\n",
      "Chia dữ liệu thành tập train và test...\n",
      "Biểu đồ đã được lưu tại: ../outputs/heart_disease/charts/class_original.png\n",
      "Biểu đồ đã được lưu tại: ../outputs/heart_disease/charts/class_distribution_60_40.png\n",
      "Biểu đồ đã được lưu tại: ../outputs/heart_disease/charts/class_distribution_40_60.png\n",
      "Biểu đồ đã được lưu tại: ../outputs/heart_disease/charts/class_distribution_80_20.png\n",
      "Biểu đồ đã được lưu tại: ../outputs/heart_disease/charts/class_distribution_90_10.png\n",
      "Hoàn tất xử lý dữ liệu!\n"
     ]
    }
   ],
   "source": [
    "# %pip install numpy matplotlib seaborn graphviz\n",
    "\n",
    "# --- Thư viện cơ bản ---\n",
    "import pandas as pd\n",
    "import numpy as np\n",
    "import matplotlib.pyplot as plt\n",
    "import seaborn as sns\n",
    "import graphviz\n",
    "import os\n",
    "\n",
    "# --- Thư viện cho Machine Learning ---\n",
    "from sklearn.model_selection import train_test_split\n",
    "from sklearn.tree import DecisionTreeClassifier, export_graphviz\n",
    "from sklearn.metrics import classification_report, confusion_matrix, accuracy_score\n",
    "\n",
    "# --- Định nghĩa các đường dẫn ---\n",
    "# Đi từ `notebooks` ra ngoài một cấp để thấy các thư mục khác\n",
    "DATA_PATH = '../data/heart_disease.csv'\n",
    "OUTPUT_DIR = '../outputs/heart_disease/'\n",
    "# Tạo thư mục output nếu nó chưa tồn tại\n",
    "os.makedirs(OUTPUT_DIR, exist_ok=True)\n",
    "\n",
    "# (Tùy chọn) Thêm thư mục src vào path để import các hàm từ utils.py\n",
    "import sys\n",
    "sys.path.append('../')\n",
    "from src.utils import plot_label_distribution, plot_label_original, build_decision_tree # Ví dụ nếu bạn có hàm riêng\n",
    "\n",
    "from sklearn.impute import SimpleImputer\n",
    "\n",
    "# --- Tải và khám phá dữ liệu ---\n",
    "df = pd.read_csv(DATA_PATH)\n",
    "\n",
    "# Chuyển cột 'num' thành nhãn nhị phân (0: không bệnh, 1: có bệnh)\n",
    "df['num'] = (df['num'] > 0).astype(int)\n",
    "\n",
    "# 1. Tách features và labels\n",
    "features = df.drop('num', axis=1)\n",
    "labels = df['num']\n",
    "\n",
    "# 2. Áp dụng One-Hot Encoding\n",
    "print(\"Áp dụng One-Hot Encoding...\")\n",
    "features_encoded = pd.get_dummies(features)\n",
    "print(f\"Số lượng features sau One-Hot Encoding: {features_encoded.shape[1]}\")\n",
    "\n",
    "# 3. Xử lý giá trị thiếu (NaN)\n",
    "print(\"\\nXử lý các giá trị bị thiếu...\")\n",
    "imputer = SimpleImputer(strategy='median')\n",
    "# Dùng features_final để lưu lại kết quả cuối cùng\n",
    "features_final = pd.DataFrame(imputer.fit_transform(features_encoded), columns=features_encoded.columns)\n",
    "\n",
    "# 4. Chia dữ liệu train/test (SỬ DỤNG features_final)\n",
    "print(\"\\nChia dữ liệu thành tập train và test...\")\n",
    "\n",
    "# Phân chia train và test theo tỷ lệ\n",
    "feature_train_60, feature_test_40, label_train_60, label_test_40 = train_test_split(\n",
    "        features_final, labels, test_size=0.4, shuffle=True, stratify=labels, random_state=42)\n",
    "\n",
    "feature_train_40, feature_test_60, label_train_40, label_test_60 = train_test_split(\n",
    "        features_final, labels, test_size=0.6, shuffle=True, stratify=labels, random_state=42)\n",
    "\n",
    "feature_train_80, feature_test_20, label_train_80, label_test_20 = train_test_split(\n",
    "        features_final, labels, test_size=0.2, shuffle=True, stratify=labels, random_state=42)\n",
    "\n",
    "feature_train_90, feature_test_10, label_train_90, label_test_10 = train_test_split(\n",
    "        features_final, labels, test_size=0.1, shuffle=True, stratify=labels, random_state=42)\n",
    "\n",
    "#Tạo biểu đồ ban đầu\n",
    "print(\"Đang tạo biểu đồ gốc...\")\n",
    "plot_label_original(labels, OUTPUT_DIR)\n",
    "\n",
    "print(\"Đang tạo các biểu đồ phân phối lớp...\")\n",
    "# Tạo các biểu đồ được phân chia\n",
    "plot_label_distribution(label_train_60, label_test_40, 60, 40, OUTPUT_DIR)\n",
    "plot_label_distribution(label_train_40, label_test_60, 40, 60, OUTPUT_DIR)\n",
    "plot_label_distribution(label_train_80, label_test_20, 80, 20, OUTPUT_DIR)\n",
    "plot_label_distribution(label_train_90, label_test_10, 90, 10, OUTPUT_DIR)\n",
    "\n",
    "print(\"Hoàn tất xử lý dữ liệu!\")"
   ]
  },
  {
   "cell_type": "markdown",
   "id": "959635b9",
   "metadata": {},
   "source": [
    "## 2. Building the decision tree classifiers\n"
   ]
  },
  {
   "cell_type": "code",
   "execution_count": null,
   "id": "b2c41d98",
   "metadata": {},
   "outputs": [
    {
     "name": "stdout",
     "output_type": "stream",
     "text": [
      "Confusion matrix đã được lưu tại: ../outputs/heart_disease/matrices/confusion_matrix_60_40.png\n",
      "Confusion matrix đã được lưu tại: ../outputs/heart_disease/matrices/confusion_matrix_40_60.png\n",
      "Confusion matrix đã được lưu tại: ../outputs/heart_disease/matrices/confusion_matrix_80_20.png\n",
      "Confusion matrix đã được lưu tại: ../outputs/heart_disease/matrices/confusion_matrix_90_10.png\n"
     ]
    }
   ],
   "source": [
    "print(\"Đang tạo confusion matrix 60/40...\")\n",
    "build_decision_tree(features_final, feature_train_60, feature_test_40, label_train_60, label_test_40, 60, 40, OUTPUT_DIR)\n",
    "\n",
    "print(\"Đang tạo confusion matrix 40/60...\")\n",
    "build_decision_tree(features_final, feature_train_40, feature_test_60, label_train_40, label_test_60, 40, 60, OUTPUT_DIR)\n",
    "\n",
    "print(\"Đang tạo confusion matrix 80/20...\")\n",
    "build_decision_tree(features_final, feature_train_80, feature_test_20, label_train_80, label_test_20, 80, 20, OUTPUT_DIR)\n",
    "\n",
    "print(\"Đang tạo confusion matrix 90/10...\")\n",
    "build_decision_tree(features_final, feature_train_90, feature_test_10, label_train_90, label_test_10, 90, 10, OUTPUT_DIR)"
   ]
  },
  {
   "cell_type": "markdown",
   "id": "cb481cac",
   "metadata": {},
   "source": [
    "## 3. Evaluating the decision tree classifiers\n"
   ]
  },
  {
   "cell_type": "code",
   "execution_count": null,
   "id": "2f7151a4",
   "metadata": {},
   "outputs": [
    {
     "data": {
      "image/png": "[encoded data removed]",
      "text/plain": [
       "<Figure size 800x500 with 1 Axes>"
      ]
     },
     "metadata": {},
     "output_type": "display_data"
    }
   ],
   "source": [
    "# Độ sâu\n",
    "depths = [None, 2, 3, 4, 5, 6, 7]\n",
    "accuracies = []\n",
    "\n",
    "output_dir = '../outputs/heart_disease/acc/'\n",
    "os.makedirs(output_dir, exist_ok=True)\n",
    "results = []\n",
    "\n",
    "for depth in depths:\n",
    "    str_depth = f\" với độ sâu là {depth} \" if depth is not None else \"\"\n",
    "    print(f\"Đang tạo và đánh giá cây quyết định{str_depth}...\")\n",
    "    clf = DecisionTreeClassifier(criterion='entropy', max_depth=depth, random_state=42)\n",
    "    clf.fit(feature_train_80, label_train_80)\n",
    "\n",
    "    # Vẽ và lưu cây\n",
    "    dot_data = export_graphviz(clf, out_file=None, feature_names=features_final.columns, class_names=[\"0\", \"1\"],\n",
    "                               filled=True, rounded=True, special_characters=True)\n",
    "    graph = graphviz.Source(dot_data)\n",
    "    filename = f\"{output_dir}tree_depth_{depth if depth else 'None'}\"\n",
    "    graph.render(filename=filename, format=\"pdf\", cleanup=True)\n",
    "    print(f\"Cây đã được lưu tại {filename}\")\n"
   ]
  },
  {
   "cell_type": "markdown",
   "id": "74bcb395",
   "metadata": {},
   "source": [
    "## 4. The depth and accuracy of a decision tree\n"
   ]
  },
  {
   "cell_type": "code",
   "execution_count": null,
   "id": "2cba464c-f15c-4b3f-a280-2a1349d6da3a",
   "metadata": {},
   "outputs": [],
   "source": [
    "print(\"Đang tạo bảng accuracy_score...\")\n",
    "for depth in depths:\n",
    "    y_pred = clf.predict(feature_test_20)\n",
    "    acc = accuracy_score(label_test_20, y_pred)\n",
    "    accuracies.append(acc)\n",
    "\n",
    "    results.append({\n",
    "        \"max_depth\": str(depth),\n",
    "        \"Accuracy\": acc\n",
    "    })\n",
    "\n",
    "# Chuyển sang dict với key là max_depth, value là accuracy\n",
    "accuracy_dict = {entry[\"max_depth\"]: entry[\"Accuracy\"] for entry in results}\n",
    "\n",
    "# Tạo DataFrame dạng 1 dòng, với index là Accuracy\n",
    "results_df = pd.DataFrame([accuracy_dict], index=[\"Accuracy\"])\n",
    "results_df.columns.name = \"max_depth\"  # Gán tên cột\n",
    "\n",
    "# Lưu vào CSV\n",
    "results_df.to_csv(f\"{output_dir}accuracy_score.csv\", index=True, index_label=\"max_depth\")\n",
    "print(f\"Đã tạo bảng accuracy_score tại {output_dir}accuracy_score.csv\")\n",
    "\n",
    "plt.figure(figsize=(8, 5))\n",
    "plt.plot([str(d) for d in depths], accuracies, marker='o')\n",
    "plt.title(\"Chart\")\n",
    "plt.xlabel(\"max_depth\")\n",
    "plt.ylabel(\"Accuracy\")\n",
    "plt.grid(True)\n",
    "plt.savefig(f\"{output_dir}accuracy_vs_depth.png\")\n",
    "plt.close()\n",
    "print(f\"Đã tạo biểu đồ accuracy_score tại {output_dir}accuracy_vs_depth.png\")\n"
   ]
  },
  {
   "cell_type": "code",
   "execution_count": null,
   "id": "0352e24f-2738-407e-b1b4-285a01556810",
   "metadata": {},
   "outputs": [],
   "source": []
  }
 ],
 "metadata": {
  "kernelspec": {
   "display_name": "Python 3 (ipykernel)",
   "language": "python",
   "name": "python3"
  },
  "language_info": {
   "codemirror_mode": {
    "name": "ipython",
    "version": 3
   },
   "file_extension": ".py",
   "mimetype": "text/x-python",
   "name": "python",
   "nbconvert_exporter": "python",
   "pygments_lexer": "ipython3",
   "version": "3.13.2"
  }
 },
 "nbformat": 4,
 "nbformat_minor": 5
}
