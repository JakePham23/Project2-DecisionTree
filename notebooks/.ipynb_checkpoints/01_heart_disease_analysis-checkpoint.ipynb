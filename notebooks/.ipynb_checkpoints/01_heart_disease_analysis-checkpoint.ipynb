{
 "cells": [
  {
   "cell_type": "markdown",
   "id": "3aa3b877",
   "metadata": {},
   "source": [
    "# Phân tích bộ dữ liệu `Heart Disease`\n"
   ]
  },
  {
   "cell_type": "markdown",
   "id": "41a6a9b2",
   "metadata": {},
   "source": [
    "## 1. Preparing datasets"
   ]
  },
  {
   "cell_type": "code",
   "execution_count": null,
   "id": "ab1af0ff",
   "metadata": {
    "notebookRunGroups": {
     "groupValue": "1"
    }
   },
   "outputs": [],
   "source": [
    "# %pip install numpy matplotlib seaborn graphviz\n",
    "\n",
    "# --- Thư viện cơ bản ---\n",
    "import pandas as pd\n",
    "import numpy as np\n",
    "import matplotlib.pyplot as plt\n",
    "import seaborn as sns\n",
    "import graphviz\n",
    "import os\n",
    "\n",
    "# --- Thư viện cho Machine Learning ---\n",
    "from sklearn.model_selection import train_test_split\n",
    "from sklearn.tree import DecisionTreeClassifier, export_graphviz\n",
    "from sklearn.metrics import classification_report, confusion_matrix, accuracy_score\n",
    "\n",
    "# --- Định nghĩa các đường dẫn ---\n",
    "# Đi từ `notebooks` ra ngoài một cấp để thấy các thư mục khác\n",
    "DATA_PATH = '../data/heart_disease.csv'\n",
    "OUTPUT_IMAGE_DIR = '../outputs/images/heart_disease/'\n",
    "# Tạo thư mục output nếu nó chưa tồn tại\n",
    "os.makedirs(OUTPUT_IMAGE_DIR, exist_ok=True)\n",
    "\n",
    "# (Tùy chọn) Thêm thư mục src vào path để import các hàm từ utils.py\n",
    "import sys\n",
    "sys.path.append('../')\n",
    "from src.utils import plot_label_distribution, plot_label_original # Ví dụ nếu bạn có hàm riêng\n",
    "\n",
    "from sklearn.impute import SimpleImputer\n",
    "\n",
    "# --- Tải và khám phá dữ liệu ---\n",
    "df = pd.read_csv(DATA_PATH)\n",
    "\n",
    "# Chuyển cột 'num' thành nhãn nhị phân (0: không bệnh, 1: có bệnh)\n",
    "df['num'] = (df['num'] > 0).astype(int)\n",
    "\n",
    "# 1. Tách features và labels\n",
    "features = df.drop('num', axis=1)\n",
    "labels = df['num']\n",
    "\n",
    "# 2. Áp dụng One-Hot Encoding\n",
    "print(\"Áp dụng One-Hot Encoding...\")\n",
    "features_encoded = pd.get_dummies(features)\n",
    "print(f\"Số lượng features sau One-Hot Encoding: {features_encoded.shape[1]}\")\n",
    "\n",
    "# 3. Xử lý giá trị thiếu (NaN)\n",
    "print(\"\\nXử lý các giá trị bị thiếu...\")\n",
    "imputer = SimpleImputer(strategy='median')\n",
    "# Dùng features_final để lưu lại kết quả cuối cùng\n",
    "features_final = pd.DataFrame(imputer.fit_transform(features_encoded), columns=features_encoded.columns)\n",
    "\n",
    "# Kiểm tra lại lần cuối để chắc chắn không còn giá trị thiếu\n",
    "print(\"\\nThông tin dữ liệu sau khi xử lý hoàn tất:\")\n",
    "features_final.info()\n",
    "\n",
    "# 4. Chia dữ liệu train/test (SỬ DỤNG features_final)\n",
    "print(\"\\nChia dữ liệu thành tập train và test...\")\n",
    "# Danh sách tỷ lệ test để lặp\n",
    "feature_train_60, feature_test_40, label_train_60, label_test_40 = train_test_split(\n",
    "        features_final, labels, test_size=0.4, shuffle=True, stratify=labels, random_state=42)\n",
    "\n",
    "feature_train_40, feature_test_60, label_train_40, label_test_60 = train_test_split(\n",
    "        features_final, labels, test_size=0.6, shuffle=True, stratify=labels, random_state=42)\n",
    "\n",
    "feature_train_80, feature_test_20, label_train_80, label_test_20 = train_test_split(\n",
    "        features_final, labels, test_size=0.2, shuffle=True, stratify=labels, random_state=42)\n",
    "\n",
    "feature_train_90, feature_test_10, label_train_90, label_test_10 = train_test_split(\n",
    "        features_final, labels, test_size=0.1, shuffle=True, stratify=labels, random_state=42)\n",
    "\n",
    "plot_label_original(labels, OUTPUT_IMAGE_DIR)\n",
    "\n",
    "plot_label_distribution(label_train_60, label_test_40, 0.6, OUTPUT_IMAGE_DIR)\n",
    "plot_label_distribution(label_train_40, label_test_60, 0.4, OUTPUT_IMAGE_DIR)\n",
    "plot_label_distribution(label_train_80, label_test_20, 0.8, OUTPUT_IMAGE_DIR)\n",
    "plot_label_distribution(label_train_90, label_test_10, 0.9, OUTPUT_IMAGE_DIR)\n",
    "\n",
    "\n",
    "print(\"Hoàn tất xử lý dữ liệu!\")"
   ]
  },
  {
   "cell_type": "markdown",
   "id": "959635b9",
   "metadata": {},
   "source": [
    "## 2. Building the decision tree classifiers\n"
   ]
  },
  {
   "cell_type": "code",
   "execution_count": null,
   "id": "b2c41d98",
   "metadata": {},
   "outputs": [],
   "source": [
    "from sklearn.tree import DecisionTreeClassifier\n",
    "\n",
    "# Khởi tạo mô hình Cây quyết định với tiêu chí entropy\n",
    "clf_80_20 = DecisionTreeClassifier(criterion='entropy', random_state=42)\n",
    "\n",
    "# Huấn luyện mô hình trên tập train\n",
    "clf_80_20.fit(feature_train_80, label_train_80)\n",
    "\n",
    "# Dự đoán trên tập test\n",
    "label_pred_80_20 = clf_80_20.predict(feature_test_20)\n",
    "\n",
    "# Classification report\n",
    "print(\"=== Classification Report (80/20) ===\")\n",
    "print(classification_report(label_test_20, label_pred_80_20, target_names=[\"No Disease\", \"Disease\"]))\n",
    "\n",
    "# Tạo confusion matrix\n",
    "cm_80_20 = confusion_matrix(label_test_20, label_pred_80_20)\n",
    "\n",
    "# Vẽ heatmap\n",
    "plt.figure(figsize=(6, 4))\n",
    "sns.heatmap(cm_80_20, annot=True, fmt='d', cmap='Blues',\n",
    "            xticklabels=['No Disease', 'Disease'],\n",
    "            yticklabels=['No Disease', 'Disease'])\n",
    "\n",
    "plt.xlabel('Predicted')\n",
    "plt.ylabel('Actual')\n",
    "plt.title('Confusion Matrix (80/20)')\n",
    "plt.tight_layout()\n",
    "\n",
    "# Lưu hình vào thư mục output\n",
    "conf_matrix_path = os.path.join(OUTPUT_IMAGE_DIR, 'confusion_matrix_80_20.png')\n",
    "plt.savefig(conf_matrix_path)\n",
    "plt.show()\n",
    "\n",
    "print(f\"Confusion matrix đã được lưu tại: {conf_matrix_path}\")"
   ]
  },
  {
   "cell_type": "markdown",
   "id": "cb481cac",
   "metadata": {},
   "source": [
    "## 3. Evaluating the decision tree classifiers\n"
   ]
  },
  {
   "cell_type": "markdown",
   "id": "74bcb395",
   "metadata": {},
   "source": [
    "## 4. The depth and accuracy of a decision tree\n"
   ]
  }
 ],
 "metadata": {
  "kernelspec": {
   "display_name": "Python 3 (ipykernel)",
   "language": "python",
   "name": "python3"
  },
  "language_info": {
   "codemirror_mode": {
    "name": "ipython",
    "version": 3
   },
   "file_extension": ".py",
   "mimetype": "text/x-python",
   "name": "python",
   "nbconvert_exporter": "python",
   "pygments_lexer": "ipython3",
   "version": "3.13.2"
  }
 },
 "nbformat": 4,
 "nbformat_minor": 5
}
