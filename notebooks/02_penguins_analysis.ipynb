{
 "cells": [
  {
   "cell_type": "markdown",
   "id": "ab9612e2",
   "metadata": {},
   "source": [
    "# Phân tích bộ dữ liệu `penguins`\n"
   ]
  },
  {
   "cell_type": "markdown",
   "id": "1f861af4",
   "metadata": {},
   "source": [
    "## 1. Preparing datasets"
   ]
  },
  {
   "cell_type": "code",
   "execution_count": null,
   "id": "b80c69a3",
   "metadata": {},
   "outputs": [
    {
     "name": "stdout",
     "output_type": "stream",
     "text": [
      "Biểu đồ đã được lưu tại: ../outputs/penguins/charts/class_original.png\n",
      "-- Split 40/60: train 137 | test 207\n",
      "Biểu đồ đã được lưu tại: ../outputs/penguins/charts/class_distribution_40_60.png\n",
      "-- Split 60/40: train 206 | test 138\n",
      "Biểu đồ đã được lưu tại: ../outputs/penguins/charts/class_distribution_60_40.png\n",
      "-- Split 80/20: train 275 | test 69\n",
      "Biểu đồ đã được lưu tại: ../outputs/penguins/charts/class_distribution_80_20.png\n",
      "-- Split 90/10: train 309 | test 35\n",
      "Biểu đồ đã được lưu tại: ../outputs/penguins/charts/class_distribution_90_10.png\n"
     ]
    }
   ],
   "source": [
    "import pandas as pd\n",
    "import os\n",
    "import sys\n",
    "import matplotlib.pyplot as plt\n",
    "import graphviz\n",
    "\n",
    "from sklearn.model_selection import train_test_split\n",
    "from sklearn.impute import SimpleImputer\n",
    "\n",
    "# --- Thư viện cho Machine Learning ---\n",
    "\n",
    "from sklearn.tree import DecisionTreeClassifier, export_graphviz\n",
    "from sklearn.metrics import classification_report, confusion_matrix, accuracy_score\n",
    "\n",
    "\n",
    "sys.path.append('../')\n",
    "from src.utils import plot_label_original, plot_label_distribution, build_decision_tree_penguins, evaluating_decision_tree_class_penguins\n",
    "\n",
    "\n",
    "PENGUINS_PATH      = '../data/palmer_penguins.csv'\n",
    "OUTPUT_DIR         = '../outputs/penguins/'\n",
    "os.makedirs(OUTPUT_DIR + 'charts/', exist_ok=True)\n",
    "\n",
    "df = pd.read_csv(PENGUINS_PATH)\n",
    "\n",
    "df = df[['species','bill_length_mm','flipper_length_mm','body_mass_g','sex']]\n",
    "\n",
    "\n",
    "imp = SimpleImputer(strategy='median')\n",
    "df[['bill_length_mm','flipper_length_mm','body_mass_g']] = \\\n",
    "    imp.fit_transform(df[['bill_length_mm','flipper_length_mm','body_mass_g']])\n",
    "df['sex'] = df['sex'].fillna('Unknown')\n",
    "\n",
    "# One-hot encode sex\n",
    "X = pd.get_dummies(df.drop('species', axis=1))\n",
    "y = df['species']\n",
    "\n",
    "# 1) Vẽ phân phối gốc\n",
    "plot_label_original(y, OUTPUT_DIR)\n",
    "\n",
    "# 2) Các tỷ lệ cần chia\n",
    "ratios = [\n",
    "    (40, 60),\n",
    "    (60, 40),\n",
    "    (80, 20),\n",
    "    (90, 10),\n",
    "]\n",
    "\n",
    "# 3) Chia và gán biến + vẽ phân phối\n",
    "for train_pct, test_pct in ratios:\n",
    "    test_size = test_pct / 100\n",
    "    \n",
    "    # stratified split\n",
    "    X_train, X_test, y_train, y_test = train_test_split(\n",
    "        X, y,\n",
    "        test_size=test_size,\n",
    "        shuffle=True,\n",
    "        stratify=y,\n",
    "        random_state=42\n",
    "    )\n",
    "    \n",
    "    # Gán vào biến toàn cục (tuỳ chọn)\n",
    "    globals()[f'feature_train_{train_pct}'] = X_train\n",
    "    globals()[f'label_train_{train_pct}']   = y_train\n",
    "    globals()[f'feature_test_{test_pct}']   = X_test\n",
    "    globals()[f'label_test_{test_pct}']     = y_test\n",
    "    \n",
    "    # In thông báo và vẽ phân phối\n",
    "    print(f\"-- Split {train_pct}/{test_pct}: train {len(y_train)} | test {len(y_test)}\")\n",
    "    plot_label_distribution(\n",
    "        y_train, y_test,\n",
    "        train_pct, test_pct,\n",
    "        OUTPUT_DIR\n",
    "    )"
   ]
  },
  {
   "cell_type": "markdown",
   "id": "1b6aae36",
   "metadata": {},
   "source": [
    "## 2. Building the decision tree classifiers\n"
   ]
  },
  {
   "cell_type": "code",
   "execution_count": 18,
   "id": "cbdc9b2b",
   "metadata": {},
   "outputs": [
    {
     "name": "stdout",
     "output_type": "stream",
     "text": [
      "Đang tạo confusion matrix 60/40...\n",
      "Đã tạo decision tree tại ../outputs/penguins/trees\\decision_tree_60_40.png\n",
      "Đang tạo confusion matrix 40/60...\n",
      "Đã tạo decision tree tại ../outputs/penguins/trees\\decision_tree_40_60.png\n",
      "Đang tạo confusion matrix 80/20...\n",
      "Đã tạo decision tree tại ../outputs/penguins/trees\\decision_tree_80_20.png\n",
      "Đang tạo confusion matrix 90/10...\n",
      "Đã tạo decision tree tại ../outputs/penguins/trees\\decision_tree_90_10.png\n"
     ]
    }
   ],
   "source": [
    "print(\"Đang tạo confusion matrix 60/40...\")\n",
    "clf_60_40 = build_decision_tree_penguins(X, feature_train_60, label_train_60, 60, 40, OUTPUT_DIR)\n",
    "\n",
    "print(\"Đang tạo confusion matrix 40/60...\")\n",
    "clf_40_60 = build_decision_tree_penguins(X, feature_train_40, label_train_40, 40, 60, OUTPUT_DIR)\n",
    "\n",
    "print(\"Đang tạo confusion matrix 80/20...\")\n",
    "clf_80_20 = build_decision_tree_penguins(X, feature_train_80, label_train_80, 80, 20, OUTPUT_DIR)\n",
    "\n",
    "print(\"Đang tạo confusion matrix 90/10...\")\n",
    "clf_90_10 = build_decision_tree_penguins(X, feature_train_90, label_train_90, 90, 10, OUTPUT_DIR)"
   ]
  },
  {
   "cell_type": "markdown",
   "id": "8059951a",
   "metadata": {},
   "source": [
    "## 3. Evaluating the decision tree classifiers\n"
   ]
  },
  {
   "cell_type": "code",
   "execution_count": 19,
   "id": "72c41bae",
   "metadata": {},
   "outputs": [
    {
     "name": "stdout",
     "output_type": "stream",
     "text": [
      "Đang tạo Classification Report và Confusion Matrix cho test 40\n",
      "Classification report saved: ../outputs/penguins/reports/classification_report_60_40.txt\n",
      "Confusion matrix saved: ../outputs/penguins/matrices\\confusion_matrix_60_40.png\n",
      "Đang tạo Classification Report và Confusion Matrix cho test 60\n",
      "Classification report saved: ../outputs/penguins/reports/classification_report_40_60.txt\n",
      "Confusion matrix saved: ../outputs/penguins/matrices\\confusion_matrix_40_60.png\n",
      "Đang tạo Classification Report và Confusion Matrix cho test 20\n",
      "Classification report saved: ../outputs/penguins/reports/classification_report_80_20.txt\n",
      "Confusion matrix saved: ../outputs/penguins/matrices\\confusion_matrix_80_20.png\n",
      "Đang tạo Classification Report và Confusion Matrix cho test 10\n",
      "Classification report saved: ../outputs/penguins/reports/classification_report_90_10.txt\n",
      "Confusion matrix saved: ../outputs/penguins/matrices\\confusion_matrix_90_10.png\n"
     ]
    }
   ],
   "source": [
    "print(\"Đang tạo Classification Report và Confusion Matrix cho test 40\")\n",
    "evaluating_decision_tree_class_penguins(clf_60_40, feature_test_40, label_test_40, 60, 40, OUTPUT_DIR)\n",
    "\n",
    "print(\"Đang tạo Classification Report và Confusion Matrix cho test 60\")\n",
    "evaluating_decision_tree_class_penguins(clf_40_60, feature_test_60, label_test_60, 40, 60, OUTPUT_DIR)\n",
    "\n",
    "print(\"Đang tạo Classification Report và Confusion Matrix cho test 20\")\n",
    "evaluating_decision_tree_class_penguins(clf_80_20, feature_test_20, label_test_20, 80, 20, OUTPUT_DIR)\n",
    "\n",
    "print(\"Đang tạo Classification Report và Confusion Matrix cho test 10\")\n",
    "evaluating_decision_tree_class_penguins(clf_90_10, feature_test_10, label_test_10, 90, 10, OUTPUT_DIR)\n"
   ]
  },
  {
   "cell_type": "markdown",
   "id": "1304e2cd",
   "metadata": {},
   "source": [
    "## 4. The depth and accuracy of a decision tree\n"
   ]
  },
  {
   "cell_type": "code",
   "execution_count": 20,
   "id": "e11f070d",
   "metadata": {},
   "outputs": [
    {
     "name": "stdout",
     "output_type": "stream",
     "text": [
      "Đang tạo cây quyết định...\n",
      "Đã lưu cây quyết định tại ../outputs/penguins/acc/tree_depth_None.pdf\n",
      "Đang tạo cây quyết định với độ sâu là 2 ...\n",
      "Đã lưu cây quyết định tại ../outputs/penguins/acc/tree_depth_2.pdf\n",
      "Đang tạo cây quyết định với độ sâu là 3 ...\n",
      "Đã lưu cây quyết định tại ../outputs/penguins/acc/tree_depth_3.pdf\n",
      "Đang tạo cây quyết định với độ sâu là 4 ...\n",
      "Đã lưu cây quyết định tại ../outputs/penguins/acc/tree_depth_4.pdf\n",
      "Đang tạo cây quyết định với độ sâu là 5 ...\n",
      "Đã lưu cây quyết định tại ../outputs/penguins/acc/tree_depth_5.pdf\n",
      "Đang tạo cây quyết định với độ sâu là 6 ...\n",
      "Đã lưu cây quyết định tại ../outputs/penguins/acc/tree_depth_6.pdf\n",
      "Đang tạo cây quyết định với độ sâu là 7 ...\n",
      "Đã lưu cây quyết định tại ../outputs/penguins/acc/tree_depth_7.pdf\n",
      "Đang tạo bảng accuracy_score...\n",
      "Đã lưu bảng accuracy_score tại ../outputs/penguins/acc/accuracy_score.csv\n",
      "Đã lưu biểu đồ accuracy_score tại ../outputs/penguins/acc/accuracy_vs_depth.png\n"
     ]
    }
   ],
   "source": [
    "\n",
    "\n",
    "depths = [None, 2, 3, 4, 5, 6, 7]\n",
    "accuracies = []\n",
    "\n",
    "output_dir = '../outputs/penguins/acc/'\n",
    "os.makedirs(output_dir, exist_ok=True)\n",
    "results = []\n",
    "\n",
    "for depth in depths:\n",
    "    str_depth = f\" với độ sâu là {depth} \" if depth is not None else \"\"\n",
    "    print(f\"Đang tạo cây quyết định{str_depth}...\")\n",
    "\n",
    "    clf = DecisionTreeClassifier(criterion='entropy', max_depth=depth, random_state=42)\n",
    "    clf.fit(feature_train_80, label_train_80)\n",
    "    y_pred = clf.predict(feature_test_20)\n",
    "    acc = accuracy_score(label_test_20, y_pred)\n",
    "    accuracies.append(acc)\n",
    "\n",
    "    results.append({\n",
    "        \"max_depth\": str(depth),\n",
    "        \"Accuracy\": acc\n",
    "    })\n",
    "\n",
    "    # Vẽ và lưu cây quyết định\n",
    "    dot_data = export_graphviz(\n",
    "        clf,\n",
    "        out_file=None,\n",
    "        feature_names=X.columns,\n",
    "        class_names=clf.classes_,\n",
    "        filled=True,\n",
    "        rounded=True,\n",
    "        special_characters=True\n",
    "    )\n",
    "    graph = graphviz.Source(dot_data)\n",
    "    filename = f\"{output_dir}tree_depth_{depth if depth is not None else 'None'}\"\n",
    "    graph.render(filename=filename, format=\"pdf\", cleanup=True)\n",
    "    print(f\"Đã lưu cây quyết định tại {filename}.pdf\")\n",
    "\n",
    "# Tạo bảng kết quả accuracy\n",
    "print(\"Đang tạo bảng accuracy_score...\")\n",
    "accuracy_dict = {entry[\"max_depth\"]: entry[\"Accuracy\"] for entry in results}\n",
    "results_df = pd.DataFrame([accuracy_dict], index=[\"Accuracy\"])\n",
    "results_df.columns.name = \"max_depth\"\n",
    "results_df.to_csv(f\"{output_dir}accuracy_score.csv\", index=True, index_label=\"Type\")\n",
    "print(f\"Đã lưu bảng accuracy_score tại {output_dir}accuracy_score.csv\")\n",
    "\n",
    "# Vẽ biểu đồ\n",
    "plt.figure(figsize=(8, 5))\n",
    "plt.plot([str(d) for d in depths], accuracies, marker='o')\n",
    "plt.title(\"Accuracy vs Max Depth (Penguins 80/20 Split)\")\n",
    "plt.xlabel(\"max_depth\")\n",
    "plt.ylabel(\"Accuracy\")\n",
    "plt.grid(True)\n",
    "plt.savefig(f\"{output_dir}accuracy_vs_depth.png\")\n",
    "plt.close()\n",
    "print(f\"Đã lưu biểu đồ accuracy_score tại {output_dir}accuracy_vs_depth.png\")\n"
   ]
  }
 ],
 "metadata": {
  "kernelspec": {
   "display_name": "base",
   "language": "python",
   "name": "python3"
  },
  "language_info": {
   "codemirror_mode": {
    "name": "ipython",
    "version": 3
   },
   "file_extension": ".py",
   "mimetype": "text/x-python",
   "name": "python",
   "nbconvert_exporter": "python",
   "pygments_lexer": "ipython3",
   "version": "3.11.7"
  }
 },
 "nbformat": 4,
 "nbformat_minor": 5
}
