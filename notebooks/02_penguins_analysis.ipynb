{
 "cells": [
  {
   "cell_type": "markdown",
   "id": "ab9612e2",
   "metadata": {},
   "source": [
    "# Phân tích bộ dữ liệu `penguins`\n"
   ]
  },
  {
   "cell_type": "markdown",
   "id": "1f861af4",
   "metadata": {},
   "source": [
    "## 1. Preparing datasets"
   ]
  },
  {
   "cell_type": "markdown",
   "id": "1b6aae36",
   "metadata": {},
   "source": [
    "## 2. Building the decision tree classifiers\n"
   ]
  },
  {
   "cell_type": "markdown",
   "id": "8059951a",
   "metadata": {},
   "source": [
    "## 3. Evaluating the decision tree classifiers\n"
   ]
  },
  {
   "cell_type": "markdown",
   "id": "1304e2cd",
   "metadata": {},
   "source": [
    "## 4. The depth and accuracy of a decision tree\n"
   ]
  }
 ],
 "metadata": {
  "language_info": {
   "name": "python"
  }
 },
 "nbformat": 4,
 "nbformat_minor": 5
}
